{
 "cells": [
  {
   "cell_type": "code",
   "execution_count": 2,
   "id": "7aa2d847-8ff2-4c1a-b744-beb642f2f2f0",
   "metadata": {},
   "outputs": [],
   "source": [
    "import numpy as np \n",
    "import pandas as pd \n",
    "import matplotlib.pyplot as plt"
   ]
  },
  {
   "cell_type": "code",
   "execution_count": 3,
   "id": "90c7b413-d678-4dba-8e7f-a610726d06b1",
   "metadata": {},
   "outputs": [],
   "source": [
    "data = pd.read_csv('Social_Network_Ads.csv')\n",
    "X = data.iloc[:, :-1].values\n",
    "y = data.iloc[:, -1].values\n",
    "np.set_printoptions(precision=6) # Printa apenas 6 casas decimais para arrays"
   ]
  },
  {
   "cell_type": "code",
   "execution_count": 4,
   "id": "59e92ec1-3fc7-49c7-87cd-f71fb1f934be",
   "metadata": {},
   "outputs": [
    {
     "name": "stdout",
     "output_type": "stream",
     "text": [
      "X_train antes de padronizar\n",
      "[[    58 144000]\n",
      " [    59  83000]\n",
      " [    24  55000]\n",
      " [    26  35000]\n",
      " [    58  38000]\n",
      " [    42  80000]\n",
      " [    40  75000]\n",
      " [    59 130000]\n",
      " [    46  41000]\n",
      " [    41  60000]]\n",
      "*********************************\n",
      "X_test antes de padronizar\n",
      "[[    30  87000]\n",
      " [    38  50000]\n",
      " [    35  75000]\n",
      " [    30  79000]\n",
      " [    35  50000]\n",
      " [    27  20000]\n",
      " [    31  15000]\n",
      " [    36 144000]\n",
      " [    18  68000]\n",
      " [    47  43000]]\n"
     ]
    }
   ],
   "source": [
    "from sklearn.model_selection import train_test_split\n",
    "X_train, X_test, y_train, y_test = train_test_split(X, y, test_size = 0.2, random_state = 0)\n",
    "print('X_train antes de padronizar')\n",
    "print(X_train[:10]) # Pegando as 10 primeiras linhas\n",
    "print('*********************************')\n",
    "print('X_test antes de padronizar')\n",
    "print(X_test[:10])"
   ]
  },
  {
   "cell_type": "code",
   "execution_count": 5,
   "id": "6d290e65-e458-42ef-8850-936f5f465e09",
   "metadata": {},
   "outputs": [
    {
     "name": "stdout",
     "output_type": "stream",
     "text": [
      "X_train depois de padronizar\n",
      "[[ 1.92295   2.146016]\n",
      " [ 2.020161  0.378719]\n",
      " [-1.382215 -0.432499]\n",
      " [-1.187794 -1.01194 ]\n",
      " [ 1.92295  -0.925024]\n",
      " [ 0.367578  0.291803]\n",
      " [ 0.173157  0.146943]\n",
      " [ 2.020161  1.740407]\n",
      " [ 0.756421 -0.838108]\n",
      " [ 0.270367 -0.287638]]\n",
      "*********************************\n",
      "X_test depois de padronizar\n",
      "[[-0.798951  0.494608]\n",
      " [-0.021265 -0.577359]\n",
      " [-0.312897  0.146943]\n",
      " [-0.798951  0.262831]\n",
      " [-0.312897 -0.577359]\n",
      " [-1.090583 -1.446521]\n",
      " [-0.70174  -1.591382]\n",
      " [-0.215686  2.146016]\n",
      " [-1.96548  -0.055862]\n",
      " [ 0.853632 -0.780164]]\n"
     ]
    }
   ],
   "source": [
    "from sklearn.preprocessing import StandardScaler\n",
    "sc = StandardScaler()\n",
    "X_train = sc.fit_transform(X_train)\n",
    "X_test = sc.transform(X_test) # Como é considerado dado novo apenas transform, evita fazamento de dados\n",
    "print('X_train depois de padronizar')\n",
    "print(X_train[:10])\n",
    "print('*********************************')\n",
    "print('X_test depois de padronizar')\n",
    "print(X_test[:10])"
   ]
  },
  {
   "cell_type": "code",
   "execution_count": null,
   "id": "7495e74a-56d0-4078-a3b9-56f0d35c2bac",
   "metadata": {},
   "outputs": [],
   "source": []
  }
 ],
 "metadata": {
  "kernelspec": {
   "display_name": "Python 3 (ipykernel)",
   "language": "python",
   "name": "python3"
  },
  "language_info": {
   "codemirror_mode": {
    "name": "ipython",
    "version": 3
   },
   "file_extension": ".py",
   "mimetype": "text/x-python",
   "name": "python",
   "nbconvert_exporter": "python",
   "pygments_lexer": "ipython3",
   "version": "3.12.4"
  }
 },
 "nbformat": 4,
 "nbformat_minor": 5
}
